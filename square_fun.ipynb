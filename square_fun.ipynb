{
  "nbformat": 4,
  "nbformat_minor": 0,
  "metadata": {
    "colab": {
      "name": "square_fun.ipynb",
      "provenance": [],
      "authorship_tag": "ABX9TyNOVfA8goKbC7T1m59XhQcp",
      "include_colab_link": true
    },
    "kernelspec": {
      "name": "python3",
      "display_name": "Python 3"
    },
    "language_info": {
      "name": "python"
    }
  },
  "cells": [
    {
      "cell_type": "markdown",
      "metadata": {
        "id": "view-in-github",
        "colab_type": "text"
      },
      "source": [
        "<a href=\"https://colab.research.google.com/github/parvez018/pytorchviz/blob/master/square_fun.ipynb\" target=\"_parent\"><img src=\"https://colab.research.google.com/assets/colab-badge.svg\" alt=\"Open In Colab\"/></a>"
      ]
    },
    {
      "cell_type": "code",
      "metadata": {
        "colab": {
          "base_uri": "https://localhost:8080/"
        },
        "id": "P49Cu6Zn4rbm",
        "outputId": "711b6e84-5d3e-4f30-81ad-ab5fba0b1e0a"
      },
      "source": [
        "import torch\n",
        "from torch import Tensor\n",
        "from torch import nn\n",
        "from torch.nn  import functional as F\n",
        "import matplotlib.pyplot as plt\n",
        "%pip install -U git+https://github.com/szagoruyko/pytorchviz.git@master\n",
        "from torchviz import make_dot"
      ],
      "execution_count": 8,
      "outputs": [
        {
          "output_type": "stream",
          "text": [
            "Collecting git+https://github.com/szagoruyko/pytorchviz.git@master\n",
            "  Cloning https://github.com/szagoruyko/pytorchviz.git (to revision master) to /tmp/pip-req-build-rfgpbkox\n",
            "  Running command git clone -q https://github.com/szagoruyko/pytorchviz.git /tmp/pip-req-build-rfgpbkox\n",
            "Requirement already satisfied, skipping upgrade: torch in /usr/local/lib/python3.7/dist-packages (from torchviz==0.0.2) (1.8.1+cu101)\n",
            "Requirement already satisfied, skipping upgrade: graphviz in /usr/local/lib/python3.7/dist-packages (from torchviz==0.0.2) (0.10.1)\n",
            "Requirement already satisfied, skipping upgrade: numpy in /usr/local/lib/python3.7/dist-packages (from torch->torchviz==0.0.2) (1.19.5)\n",
            "Requirement already satisfied, skipping upgrade: typing-extensions in /usr/local/lib/python3.7/dist-packages (from torch->torchviz==0.0.2) (3.7.4.3)\n",
            "Building wheels for collected packages: torchviz\n",
            "  Building wheel for torchviz (setup.py) ... \u001b[?25l\u001b[?25hdone\n",
            "  Created wheel for torchviz: filename=torchviz-0.0.2-cp37-none-any.whl size=4970 sha256=e03b86d11a8b71e601c4263ef49f9decfc2586b8228de2fbd8fc4aa236905d43\n",
            "  Stored in directory: /tmp/pip-ephem-wheel-cache-0s_zmrjc/wheels/fc/d6/e6/66dc628cd51f1839234ed28feeba942a6f68bc69cec3b8f137\n",
            "Successfully built torchviz\n",
            "Installing collected packages: torchviz\n",
            "Successfully installed torchviz-0.0.2\n"
          ],
          "name": "stdout"
        }
      ]
    },
    {
      "cell_type": "code",
      "metadata": {
        "id": "MRd7NZAU4zCx"
      },
      "source": [
        "class SquareFun(nn.Module):\n",
        "    def __init__(self):\n",
        "        super(SquareFun, self).__init__()\n",
        "        self.b = nn.Parameter(torch.tensor(5.0), requires_grad=True)\n",
        "        self.c = nn.Parameter(torch.tensor(5.0), requires_grad=True)\n",
        "\n",
        "        print(\"initial values\",self.b.data,self.c.data)\n",
        "    \n",
        "    def forward(self,x):\n",
        "        return self.b*x+self.c"
      ],
      "execution_count": 9,
      "outputs": []
    },
    {
      "cell_type": "code",
      "metadata": {
        "colab": {
          "base_uri": "https://localhost:8080/"
        },
        "id": "MAP6e1Ls47Cn",
        "outputId": "dd3cff42-09fb-4d8e-d9ea-7960f0a3043e"
      },
      "source": [
        "if __name__=='__main__':\n",
        "    model = SquareFun()"
      ],
      "execution_count": 10,
      "outputs": [
        {
          "output_type": "stream",
          "text": [
            "initial values tensor(5.) tensor(5.)\n"
          ],
          "name": "stdout"
        }
      ]
    },
    {
      "cell_type": "code",
      "metadata": {
        "id": "LNxkxZHY5D0R"
      },
      "source": [
        "    y = torch.tensor(list(range(-4,4)))*1.0\n",
        "    y = model(y)\n",
        "    y = model(y)\n",
        "    y = model(y)"
      ],
      "execution_count": 11,
      "outputs": []
    },
    {
      "cell_type": "code",
      "metadata": {
        "colab": {
          "base_uri": "https://localhost:8080/",
          "height": 762
        },
        "id": "a4DHXYsx5OAm",
        "outputId": "32bd041c-be67-49f7-dea9-1b24daf0a6a3"
      },
      "source": [
        "    make_dot(y.mean(),params=dict(model.named_parameters()))"
      ],
      "execution_count": 12,
      "outputs": [
        {
          "output_type": "execute_result",
          "data": {
            "text/plain": [
              "<graphviz.dot.Digraph at 0x7f902121dd50>"
            ],
            "image/svg+xml": "<?xml version=\"1.0\" encoding=\"UTF-8\" standalone=\"no\"?>\n<!DOCTYPE svg PUBLIC \"-//W3C//DTD SVG 1.1//EN\"\n \"http://www.w3.org/Graphics/SVG/1.1/DTD/svg11.dtd\">\n<!-- Generated by graphviz version 2.40.1 (20161225.0304)\n -->\n<!-- Title: %3 Pages: 1 -->\n<svg width=\"295pt\" height=\"556pt\"\n viewBox=\"0.00 0.00 295.00 556.00\" xmlns=\"http://www.w3.org/2000/svg\" xmlns:xlink=\"http://www.w3.org/1999/xlink\">\n<g id=\"graph0\" class=\"graph\" transform=\"scale(1 1) rotate(0) translate(4 552)\">\n<title>%3</title>\n<polygon fill=\"#ffffff\" stroke=\"transparent\" points=\"-4,4 -4,-552 291,-552 291,4 -4,4\"/>\n<!-- 140257008069920 -->\n<g id=\"node1\" class=\"node\">\n<title>140257008069920</title>\n<polygon fill=\"#caff70\" stroke=\"#000000\" points=\"224.5,-31 170.5,-31 170.5,0 224.5,0 224.5,-31\"/>\n<text text-anchor=\"middle\" x=\"197.5\" y=\"-7\" font-family=\"monospace\" font-size=\"10.00\" fill=\"#000000\"> ()</text>\n</g>\n<!-- 140257007883152 -->\n<g id=\"node2\" class=\"node\">\n<title>140257007883152</title>\n<polygon fill=\"#d3d3d3\" stroke=\"#000000\" points=\"245,-86 150,-86 150,-67 245,-67 245,-86\"/>\n<text text-anchor=\"middle\" x=\"197.5\" y=\"-74\" font-family=\"monospace\" font-size=\"10.00\" fill=\"#000000\">MeanBackward0</text>\n</g>\n<!-- 140257007883152&#45;&gt;140257008069920 -->\n<g id=\"edge15\" class=\"edge\">\n<title>140257007883152&#45;&gt;140257008069920</title>\n<path fill=\"none\" stroke=\"#000000\" d=\"M197.5,-66.9688C197.5,-60.1289 197.5,-50.5621 197.5,-41.5298\"/>\n<polygon fill=\"#000000\" stroke=\"#000000\" points=\"201.0001,-41.3678 197.5,-31.3678 194.0001,-41.3678 201.0001,-41.3678\"/>\n</g>\n<!-- 140257007886224 -->\n<g id=\"node3\" class=\"node\">\n<title>140257007886224</title>\n<polygon fill=\"#d3d3d3\" stroke=\"#000000\" points=\"242,-141 153,-141 153,-122 242,-122 242,-141\"/>\n<text text-anchor=\"middle\" x=\"197.5\" y=\"-129\" font-family=\"monospace\" font-size=\"10.00\" fill=\"#000000\">AddBackward0</text>\n</g>\n<!-- 140257007886224&#45;&gt;140257007883152 -->\n<g id=\"edge1\" class=\"edge\">\n<title>140257007886224&#45;&gt;140257007883152</title>\n<path fill=\"none\" stroke=\"#000000\" d=\"M197.5,-121.9197C197.5,-114.9083 197.5,-105.1442 197.5,-96.4652\"/>\n<polygon fill=\"#000000\" stroke=\"#000000\" points=\"201.0001,-96.3408 197.5,-86.3408 194.0001,-96.3409 201.0001,-96.3408\"/>\n</g>\n<!-- 140257007885968 -->\n<g id=\"node4\" class=\"node\">\n<title>140257007885968</title>\n<polygon fill=\"#d3d3d3\" stroke=\"#000000\" points=\"187,-196 98,-196 98,-177 187,-177 187,-196\"/>\n<text text-anchor=\"middle\" x=\"142.5\" y=\"-184\" font-family=\"monospace\" font-size=\"10.00\" fill=\"#000000\">MulBackward0</text>\n</g>\n<!-- 140257007885968&#45;&gt;140257007886224 -->\n<g id=\"edge2\" class=\"edge\">\n<title>140257007885968&#45;&gt;140257007886224</title>\n<path fill=\"none\" stroke=\"#000000\" d=\"M152.0803,-176.9197C159.8707,-169.1293 171.0595,-157.9405 180.3824,-148.6176\"/>\n<polygon fill=\"#000000\" stroke=\"#000000\" points=\"183.063,-150.8868 187.6592,-141.3408 178.1132,-145.937 183.063,-150.8868\"/>\n</g>\n<!-- 140257007887888 -->\n<g id=\"node5\" class=\"node\">\n<title>140257007887888</title>\n<polygon fill=\"#d3d3d3\" stroke=\"#000000\" points=\"101,-476.5 0,-476.5 0,-457.5 101,-457.5 101,-476.5\"/>\n<text text-anchor=\"middle\" x=\"50.5\" y=\"-464.5\" font-family=\"monospace\" font-size=\"10.00\" fill=\"#000000\">AccumulateGrad</text>\n</g>\n<!-- 140257007887888&#45;&gt;140257007885968 -->\n<g id=\"edge3\" class=\"edge\">\n<title>140257007887888&#45;&gt;140257007885968</title>\n<path fill=\"none\" stroke=\"#000000\" d=\"M45.0555,-457.4632C34.5482,-438.1318 12.5,-392.6635 12.5,-351.5 12.5,-351.5 12.5,-351.5 12.5,-296.5 12.5,-247.7133 66.5149,-216.1167 104.9095,-199.8199\"/>\n<polygon fill=\"#000000\" stroke=\"#000000\" points=\"106.3466,-203.0139 114.2919,-196.0051 103.7101,-196.5294 106.3466,-203.0139\"/>\n</g>\n<!-- 140257008050384 -->\n<g id=\"node8\" class=\"node\">\n<title>140257008050384</title>\n<polygon fill=\"#d3d3d3\" stroke=\"#000000\" points=\"168,-306 79,-306 79,-287 168,-287 168,-306\"/>\n<text text-anchor=\"middle\" x=\"123.5\" y=\"-294\" font-family=\"monospace\" font-size=\"10.00\" fill=\"#000000\">MulBackward0</text>\n</g>\n<!-- 140257007887888&#45;&gt;140257008050384 -->\n<g id=\"edge7\" class=\"edge\">\n<title>140257007887888&#45;&gt;140257008050384</title>\n<path fill=\"none\" stroke=\"#000000\" d=\"M49.7677,-457.4999C48.52,-435.5976 47.933,-380.4904 69.5,-342 76.2416,-329.9683 87.4864,-319.7244 97.9746,-312.0206\"/>\n<polygon fill=\"#000000\" stroke=\"#000000\" points=\"100.2351,-314.7138 106.4912,-306.1633 96.2684,-308.9462 100.2351,-314.7138\"/>\n</g>\n<!-- 140257008050640 -->\n<g id=\"node10\" class=\"node\">\n<title>140257008050640</title>\n<polygon fill=\"#d3d3d3\" stroke=\"#000000\" points=\"168,-416 79,-416 79,-397 168,-397 168,-416\"/>\n<text text-anchor=\"middle\" x=\"123.5\" y=\"-404\" font-family=\"monospace\" font-size=\"10.00\" fill=\"#000000\">MulBackward0</text>\n</g>\n<!-- 140257007887888&#45;&gt;140257008050640 -->\n<g id=\"edge10\" class=\"edge\">\n<title>140257007887888&#45;&gt;140257008050640</title>\n<path fill=\"none\" stroke=\"#000000\" d=\"M62.2287,-457.2796C73.3374,-448.0731 90.2422,-434.063 103.4833,-423.0892\"/>\n<polygon fill=\"#000000\" stroke=\"#000000\" points=\"106.0918,-425.4732 111.5579,-416.3972 101.625,-420.0835 106.0918,-425.4732\"/>\n</g>\n<!-- 140257007910656 -->\n<g id=\"node6\" class=\"node\">\n<title>140257007910656</title>\n<polygon fill=\"#add8e6\" stroke=\"#000000\" points=\"77.5,-548 23.5,-548 23.5,-518 77.5,-518 77.5,-548\"/>\n<text text-anchor=\"middle\" x=\"50.5\" y=\"-536\" font-family=\"monospace\" font-size=\"10.00\" fill=\"#000000\">b</text>\n<text text-anchor=\"middle\" x=\"50.5\" y=\"-525\" font-family=\"monospace\" font-size=\"10.00\" fill=\"#000000\"> ()</text>\n</g>\n<!-- 140257007910656&#45;&gt;140257007887888 -->\n<g id=\"edge4\" class=\"edge\">\n<title>140257007910656&#45;&gt;140257007887888</title>\n<path fill=\"none\" stroke=\"#000000\" d=\"M50.5,-517.6924C50.5,-508.5067 50.5,-496.7245 50.5,-486.8312\"/>\n<polygon fill=\"#000000\" stroke=\"#000000\" points=\"54.0001,-486.703 50.5,-476.7031 47.0001,-486.7031 54.0001,-486.703\"/>\n</g>\n<!-- 140257007889040 -->\n<g id=\"node7\" class=\"node\">\n<title>140257007889040</title>\n<polygon fill=\"#d3d3d3\" stroke=\"#000000\" points=\"187,-251 98,-251 98,-232 187,-232 187,-251\"/>\n<text text-anchor=\"middle\" x=\"142.5\" y=\"-239\" font-family=\"monospace\" font-size=\"10.00\" fill=\"#000000\">AddBackward0</text>\n</g>\n<!-- 140257007889040&#45;&gt;140257007885968 -->\n<g id=\"edge5\" class=\"edge\">\n<title>140257007889040&#45;&gt;140257007885968</title>\n<path fill=\"none\" stroke=\"#000000\" d=\"M142.5,-231.9197C142.5,-224.9083 142.5,-215.1442 142.5,-206.4652\"/>\n<polygon fill=\"#000000\" stroke=\"#000000\" points=\"146.0001,-206.3408 142.5,-196.3408 139.0001,-206.3409 146.0001,-206.3408\"/>\n</g>\n<!-- 140257008050384&#45;&gt;140257007889040 -->\n<g id=\"edge6\" class=\"edge\">\n<title>140257008050384&#45;&gt;140257007889040</title>\n<path fill=\"none\" stroke=\"#000000\" d=\"M126.8095,-286.9197C129.2855,-279.7525 132.7551,-269.7089 135.8023,-260.8882\"/>\n<polygon fill=\"#000000\" stroke=\"#000000\" points=\"139.1433,-261.9356 139.1004,-251.3408 132.527,-259.6499 139.1433,-261.9356\"/>\n</g>\n<!-- 140257008050256 -->\n<g id=\"node9\" class=\"node\">\n<title>140257008050256</title>\n<polygon fill=\"#d3d3d3\" stroke=\"#000000\" points=\"168,-361 79,-361 79,-342 168,-342 168,-361\"/>\n<text text-anchor=\"middle\" x=\"123.5\" y=\"-349\" font-family=\"monospace\" font-size=\"10.00\" fill=\"#000000\">AddBackward0</text>\n</g>\n<!-- 140257008050256&#45;&gt;140257008050384 -->\n<g id=\"edge8\" class=\"edge\">\n<title>140257008050256&#45;&gt;140257008050384</title>\n<path fill=\"none\" stroke=\"#000000\" d=\"M123.5,-341.9197C123.5,-334.9083 123.5,-325.1442 123.5,-316.4652\"/>\n<polygon fill=\"#000000\" stroke=\"#000000\" points=\"127.0001,-316.3408 123.5,-306.3408 120.0001,-316.3409 127.0001,-316.3408\"/>\n</g>\n<!-- 140257008050640&#45;&gt;140257008050256 -->\n<g id=\"edge9\" class=\"edge\">\n<title>140257008050640&#45;&gt;140257008050256</title>\n<path fill=\"none\" stroke=\"#000000\" d=\"M123.5,-396.9197C123.5,-389.9083 123.5,-380.1442 123.5,-371.4652\"/>\n<polygon fill=\"#000000\" stroke=\"#000000\" points=\"127.0001,-371.3408 123.5,-361.3408 120.0001,-371.3409 127.0001,-371.3408\"/>\n</g>\n<!-- 140257007886672 -->\n<g id=\"node11\" class=\"node\">\n<title>140257007886672</title>\n<polygon fill=\"#d3d3d3\" stroke=\"#000000\" points=\"287,-416 186,-416 186,-397 287,-397 287,-416\"/>\n<text text-anchor=\"middle\" x=\"236.5\" y=\"-404\" font-family=\"monospace\" font-size=\"10.00\" fill=\"#000000\">AccumulateGrad</text>\n</g>\n<!-- 140257007886672&#45;&gt;140257007886224 -->\n<g id=\"edge14\" class=\"edge\">\n<title>140257007886672&#45;&gt;140257007886224</title>\n<path fill=\"none\" stroke=\"#000000\" d=\"M236.3524,-396.7886C236.0743,-377.6169 235.5,-333.5501 235.5,-296.5 235.5,-296.5 235.5,-296.5 235.5,-241.5 235.5,-207.8364 219.4038,-171.3974 208.1633,-150.0549\"/>\n<polygon fill=\"#000000\" stroke=\"#000000\" points=\"211.1444,-148.2117 203.2714,-141.1218 205.0047,-151.5739 211.1444,-148.2117\"/>\n</g>\n<!-- 140257007886672&#45;&gt;140257007889040 -->\n<g id=\"edge13\" class=\"edge\">\n<title>140257007886672&#45;&gt;140257007889040</title>\n<path fill=\"none\" stroke=\"#000000\" d=\"M232.377,-396.8988C223.3415,-376.2034 200.6636,-326.1014 176.5,-287 170.6373,-277.513 163.319,-267.5283 156.9754,-259.3371\"/>\n<polygon fill=\"#000000\" stroke=\"#000000\" points=\"159.5375,-256.9343 150.5895,-251.2612 154.0466,-261.2761 159.5375,-256.9343\"/>\n</g>\n<!-- 140257007886672&#45;&gt;140257008050256 -->\n<g id=\"edge11\" class=\"edge\">\n<title>140257007886672&#45;&gt;140257008050256</title>\n<path fill=\"none\" stroke=\"#000000\" d=\"M216.8169,-396.9197C199.0213,-388.2581 172.5948,-375.3957 152.4023,-365.5675\"/>\n<polygon fill=\"#000000\" stroke=\"#000000\" points=\"153.86,-362.3844 143.3367,-361.155 150.7964,-368.6785 153.86,-362.3844\"/>\n</g>\n<!-- 140257007907376 -->\n<g id=\"node12\" class=\"node\">\n<title>140257007907376</title>\n<polygon fill=\"#add8e6\" stroke=\"#000000\" points=\"263.5,-482 209.5,-482 209.5,-452 263.5,-452 263.5,-482\"/>\n<text text-anchor=\"middle\" x=\"236.5\" y=\"-470\" font-family=\"monospace\" font-size=\"10.00\" fill=\"#000000\">c</text>\n<text text-anchor=\"middle\" x=\"236.5\" y=\"-459\" font-family=\"monospace\" font-size=\"10.00\" fill=\"#000000\"> ()</text>\n</g>\n<!-- 140257007907376&#45;&gt;140257007886672 -->\n<g id=\"edge12\" class=\"edge\">\n<title>140257007907376&#45;&gt;140257007886672</title>\n<path fill=\"none\" stroke=\"#000000\" d=\"M236.5,-451.7333C236.5,-444.0322 236.5,-434.5977 236.5,-426.3414\"/>\n<polygon fill=\"#000000\" stroke=\"#000000\" points=\"240.0001,-426.0864 236.5,-416.0864 233.0001,-426.0864 240.0001,-426.0864\"/>\n</g>\n</g>\n</svg>\n"
          },
          "metadata": {
            "tags": []
          },
          "execution_count": 12
        }
      ]
    }
  ]
}