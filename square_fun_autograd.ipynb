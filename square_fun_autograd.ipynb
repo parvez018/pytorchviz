{
  "nbformat": 4,
  "nbformat_minor": 0,
  "metadata": {
    "colab": {
      "name": "square_fun_autograd.ipynb",
      "provenance": [],
      "authorship_tag": "ABX9TyOTTLz5Bx59gzqJwj4zx+F7",
      "include_colab_link": true
    },
    "kernelspec": {
      "name": "python3",
      "display_name": "Python 3"
    },
    "language_info": {
      "name": "python"
    }
  },
  "cells": [
    {
      "cell_type": "markdown",
      "metadata": {
        "id": "view-in-github",
        "colab_type": "text"
      },
      "source": [
        "<a href=\"https://colab.research.google.com/github/parvez018/pytorchviz/blob/master/square_fun_autograd.ipynb\" target=\"_parent\"><img src=\"https://colab.research.google.com/assets/colab-badge.svg\" alt=\"Open In Colab\"/></a>"
      ]
    },
    {
      "cell_type": "code",
      "metadata": {
        "colab": {
          "base_uri": "https://localhost:8080/"
        },
        "id": "DWmWEp7E50r2",
        "outputId": "7fda284b-7293-41c4-a55f-0b0a6b8ef674"
      },
      "source": [
        "import torch\n",
        "from torch.autograd import Variable\n",
        "from torch import Tensor\n",
        "from torch import nn\n",
        "from torch.nn  import functional as F\n",
        "%pip install -U git+https://github.com/szagoruyko/pytorchviz.git@master\n",
        "from torchviz import make_dot"
      ],
      "execution_count": 1,
      "outputs": [
        {
          "output_type": "stream",
          "text": [
            "Collecting git+https://github.com/szagoruyko/pytorchviz.git@master\n",
            "  Cloning https://github.com/szagoruyko/pytorchviz.git (to revision master) to /tmp/pip-req-build-fdvl8k4b\n",
            "  Running command git clone -q https://github.com/szagoruyko/pytorchviz.git /tmp/pip-req-build-fdvl8k4b\n",
            "Requirement already satisfied, skipping upgrade: torch in /usr/local/lib/python3.7/dist-packages (from torchviz==0.0.2) (1.8.1+cu101)\n",
            "Requirement already satisfied, skipping upgrade: graphviz in /usr/local/lib/python3.7/dist-packages (from torchviz==0.0.2) (0.10.1)\n",
            "Requirement already satisfied, skipping upgrade: numpy in /usr/local/lib/python3.7/dist-packages (from torch->torchviz==0.0.2) (1.19.5)\n",
            "Requirement already satisfied, skipping upgrade: typing-extensions in /usr/local/lib/python3.7/dist-packages (from torch->torchviz==0.0.2) (3.7.4.3)\n",
            "Building wheels for collected packages: torchviz\n",
            "  Building wheel for torchviz (setup.py) ... \u001b[?25l\u001b[?25hdone\n",
            "  Created wheel for torchviz: filename=torchviz-0.0.2-cp37-none-any.whl size=4970 sha256=b6602e59bd6a382d32c6891070c9d3e0ad50e66b0ca5055868fe5f55c5c7c349\n",
            "  Stored in directory: /tmp/pip-ephem-wheel-cache-jla1qnqt/wheels/fc/d6/e6/66dc628cd51f1839234ed28feeba942a6f68bc69cec3b8f137\n",
            "Successfully built torchviz\n",
            "Installing collected packages: torchviz\n",
            "Successfully installed torchviz-0.0.2\n"
          ],
          "name": "stdout"
        }
      ]
    },
    {
      "cell_type": "code",
      "metadata": {
        "id": "N2BZzeBQ6BEE"
      },
      "source": [
        "class SquareFun(torch.autograd.Function):\n",
        "    @staticmethod\n",
        "    def forward(ctx,input,b,c):\n",
        "        ctx.save_for_backward(input,b)\n",
        "        return b*input+c\n",
        "\n",
        "    @staticmethod\n",
        "    def backward(ctx,grad_output):\n",
        "        input,b = ctx.saved_tensors\n",
        "        # print(\"grad output\",grad_output)\n",
        "        # print(\"x\",input)\n",
        "        # # return None,grad_output*x,grad_output*1.0\n",
        "        return b*torch.ones_like(input)*grad_output,grad_output*input,grad_output*1.0"
      ],
      "execution_count": 9,
      "outputs": []
    },
    {
      "cell_type": "code",
      "metadata": {
        "id": "DOr_YjKc6B6Q"
      },
      "source": [
        "class WrappedSquareFun(nn.Module):\n",
        "    def __init__(self,func):\n",
        "        super().__init__()\n",
        "        self.b = nn.Parameter(torch.tensor(5.0), requires_grad=True)\n",
        "        self.c = nn.Parameter(torch.tensor(5.0), requires_grad=True)\n",
        "        self.func = func\n",
        "\n",
        "        print(\"initial values\",self.b.data,self.c.data)\n",
        "    \n",
        "\n",
        "    def forward(self,x):\n",
        "        result = SquareFun.apply(x,self.b,self.c)\n",
        "        return result"
      ],
      "execution_count": 10,
      "outputs": []
    },
    {
      "cell_type": "code",
      "metadata": {
        "colab": {
          "base_uri": "https://localhost:8080/"
        },
        "id": "tqNkKge06FQQ",
        "outputId": "43fc47ce-fcb6-453f-8804-8dadac1698b1"
      },
      "source": [
        "if __name__=='__main__':\n",
        "    model = WrappedSquareFun(SquareFun())"
      ],
      "execution_count": 11,
      "outputs": [
        {
          "output_type": "stream",
          "text": [
            "initial values tensor(5.) tensor(5.)\n"
          ],
          "name": "stdout"
        }
      ]
    },
    {
      "cell_type": "code",
      "metadata": {
        "id": "4KY0yL6o6HdS"
      },
      "source": [
        "    y = torch.tensor(list(range(-4,4)))*1.0\n",
        "    y = model(y)\n",
        "    y = model(y)\n",
        "    y = model(y)"
      ],
      "execution_count": 12,
      "outputs": []
    },
    {
      "cell_type": "code",
      "metadata": {
        "colab": {
          "base_uri": "https://localhost:8080/",
          "height": 598
        },
        "id": "tNaUhUf26NMZ",
        "outputId": "4474fdf7-56ee-45ae-a46d-615f4d87bd2e"
      },
      "source": [
        "    make_dot(y.mean(),params=dict(model.named_parameters()),show_attrs=True,show_saved=True)"
      ],
      "execution_count": 13,
      "outputs": [
        {
          "output_type": "stream",
          "text": [
            "/usr/local/lib/python3.7/dist-packages/torchviz/dot.py:68: UserWarning: make_dot: showing grad_fn attributes and saved variables requires PyTorch version >= 1.9. (This does NOT apply to saved tensors saved by custom autograd functions.)\n",
            "  \"make_dot: showing grad_fn attributes and saved variables\"\n"
          ],
          "name": "stderr"
        },
        {
          "output_type": "execute_result",
          "data": {
            "text/plain": [
              "<graphviz.dot.Digraph at 0x7fc3ca5bb850>"
            ],
            "image/svg+xml": "<?xml version=\"1.0\" encoding=\"UTF-8\" standalone=\"no\"?>\n<!DOCTYPE svg PUBLIC \"-//W3C//DTD SVG 1.1//EN\"\n \"http://www.w3.org/Graphics/SVG/1.1/DTD/svg11.dtd\">\n<!-- Generated by graphviz version 2.40.1 (20161225.0304)\n -->\n<!-- Title: %3 Pages: 1 -->\n<svg width=\"433pt\" height=\"392pt\"\n viewBox=\"0.00 0.00 432.50 392.00\" xmlns=\"http://www.w3.org/2000/svg\" xmlns:xlink=\"http://www.w3.org/1999/xlink\">\n<g id=\"graph0\" class=\"graph\" transform=\"scale(1 1) rotate(0) translate(4 388)\">\n<title>%3</title>\n<polygon fill=\"#ffffff\" stroke=\"transparent\" points=\"-4,4 -4,-388 428.5,-388 428.5,4 -4,4\"/>\n<!-- 140480317054640 -->\n<g id=\"node1\" class=\"node\">\n<title>140480317054640</title>\n<polygon fill=\"#caff70\" stroke=\"#000000\" points=\"260.5,-31 206.5,-31 206.5,0 260.5,0 260.5,-31\"/>\n<text text-anchor=\"middle\" x=\"233.5\" y=\"-7\" font-family=\"monospace\" font-size=\"10.00\" fill=\"#000000\"> ()</text>\n</g>\n<!-- 140478890359312 -->\n<g id=\"node2\" class=\"node\">\n<title>140478890359312</title>\n<polygon fill=\"#d3d3d3\" stroke=\"#000000\" points=\"281,-86 186,-86 186,-67 281,-67 281,-86\"/>\n<text text-anchor=\"middle\" x=\"233.5\" y=\"-74\" font-family=\"monospace\" font-size=\"10.00\" fill=\"#000000\">MeanBackward0</text>\n</g>\n<!-- 140478890359312&#45;&gt;140480317054640 -->\n<g id=\"edge18\" class=\"edge\">\n<title>140478890359312&#45;&gt;140480317054640</title>\n<path fill=\"none\" stroke=\"#000000\" d=\"M233.5,-66.9688C233.5,-60.1289 233.5,-50.5621 233.5,-41.5298\"/>\n<polygon fill=\"#000000\" stroke=\"#000000\" points=\"237.0001,-41.3678 233.5,-31.3678 230.0001,-41.3678 237.0001,-41.3678\"/>\n</g>\n<!-- 140478890575584 -->\n<g id=\"node3\" class=\"node\">\n<title>140478890575584</title>\n<polygon fill=\"#d3d3d3\" stroke=\"#000000\" points=\"293,-141 174,-141 174,-122 293,-122 293,-141\"/>\n<text text-anchor=\"middle\" x=\"233.5\" y=\"-129\" font-family=\"monospace\" font-size=\"10.00\" fill=\"#000000\">SquareFunBackward</text>\n</g>\n<!-- 140478890575584&#45;&gt;140478890359312 -->\n<g id=\"edge1\" class=\"edge\">\n<title>140478890575584&#45;&gt;140478890359312</title>\n<path fill=\"none\" stroke=\"#000000\" d=\"M233.5,-121.9197C233.5,-114.9083 233.5,-105.1442 233.5,-96.4652\"/>\n<polygon fill=\"#000000\" stroke=\"#000000\" points=\"237.0001,-96.3408 233.5,-86.3408 230.0001,-96.3409 237.0001,-96.3408\"/>\n</g>\n<!-- 140478890577504 -->\n<g id=\"node4\" class=\"node\">\n<title>140478890577504</title>\n<polygon fill=\"#d3d3d3\" stroke=\"#000000\" points=\"293,-196 174,-196 174,-177 293,-177 293,-196\"/>\n<text text-anchor=\"middle\" x=\"233.5\" y=\"-184\" font-family=\"monospace\" font-size=\"10.00\" fill=\"#000000\">SquareFunBackward</text>\n</g>\n<!-- 140478890577504&#45;&gt;140478890575584 -->\n<g id=\"edge2\" class=\"edge\">\n<title>140478890577504&#45;&gt;140478890575584</title>\n<path fill=\"none\" stroke=\"#000000\" d=\"M233.5,-176.9197C233.5,-169.9083 233.5,-160.1442 233.5,-151.4652\"/>\n<polygon fill=\"#000000\" stroke=\"#000000\" points=\"237.0001,-151.3408 233.5,-141.3408 230.0001,-151.3409 237.0001,-151.3408\"/>\n</g>\n<!-- 140478890574384 -->\n<g id=\"node5\" class=\"node\">\n<title>140478890574384</title>\n<polygon fill=\"#d3d3d3\" stroke=\"#000000\" points=\"293,-251 174,-251 174,-232 293,-232 293,-251\"/>\n<text text-anchor=\"middle\" x=\"233.5\" y=\"-239\" font-family=\"monospace\" font-size=\"10.00\" fill=\"#000000\">SquareFunBackward</text>\n</g>\n<!-- 140478890574384&#45;&gt;140478890577504 -->\n<g id=\"edge3\" class=\"edge\">\n<title>140478890574384&#45;&gt;140478890577504</title>\n<path fill=\"none\" stroke=\"#000000\" d=\"M233.5,-231.9197C233.5,-224.9083 233.5,-215.1442 233.5,-206.4652\"/>\n<polygon fill=\"#000000\" stroke=\"#000000\" points=\"237.0001,-206.3408 233.5,-196.3408 230.0001,-206.3409 237.0001,-206.3408\"/>\n</g>\n<!-- 140478890358800 -->\n<g id=\"node6\" class=\"node\">\n<title>140478890358800</title>\n<polygon fill=\"#d3d3d3\" stroke=\"#000000\" points=\"101,-312 0,-312 0,-293 101,-293 101,-312\"/>\n<text text-anchor=\"middle\" x=\"50.5\" y=\"-300\" font-family=\"monospace\" font-size=\"10.00\" fill=\"#000000\">AccumulateGrad</text>\n</g>\n<!-- 140478890358800&#45;&gt;140478890575584 -->\n<g id=\"edge14\" class=\"edge\">\n<title>140478890358800&#45;&gt;140478890575584</title>\n<path fill=\"none\" stroke=\"#000000\" d=\"M56.4107,-292.981C70.6936,-270.554 109.1242,-213.5399 152.5,-177 167.4146,-164.4359 186.3088,-153.5905 202.0968,-145.6428\"/>\n<polygon fill=\"#000000\" stroke=\"#000000\" points=\"204.0059,-148.6061 211.4623,-141.0793 200.9396,-142.3134 204.0059,-148.6061\"/>\n</g>\n<!-- 140478890358800&#45;&gt;140478890577504 -->\n<g id=\"edge10\" class=\"edge\">\n<title>140478890358800&#45;&gt;140478890577504</title>\n<path fill=\"none\" stroke=\"#000000\" d=\"M64.2438,-292.8659C84.129,-279.0205 122.1937,-252.8667 155.5,-232 172.5529,-221.3162 192.1146,-209.9073 207.3822,-201.1863\"/>\n<polygon fill=\"#000000\" stroke=\"#000000\" points=\"209.3076,-204.1178 216.2726,-196.1341 205.8491,-198.0319 209.3076,-204.1178\"/>\n</g>\n<!-- 140478890358800&#45;&gt;140478890574384 -->\n<g id=\"edge4\" class=\"edge\">\n<title>140478890358800&#45;&gt;140478890574384</title>\n<path fill=\"none\" stroke=\"#000000\" d=\"M79.0938,-292.9688C110.293,-282.569 160.4045,-265.8652 195.0357,-254.3214\"/>\n<polygon fill=\"#000000\" stroke=\"#000000\" points=\"196.4256,-257.5475 204.8057,-251.0648 194.212,-250.9067 196.4256,-257.5475\"/>\n</g>\n<!-- 140478890000048 -->\n<g id=\"node7\" class=\"node\">\n<title>140478890000048</title>\n<polygon fill=\"#add8e6\" stroke=\"#000000\" points=\"77.5,-384 23.5,-384 23.5,-354 77.5,-354 77.5,-384\"/>\n<text text-anchor=\"middle\" x=\"50.5\" y=\"-372\" font-family=\"monospace\" font-size=\"10.00\" fill=\"#000000\">b</text>\n<text text-anchor=\"middle\" x=\"50.5\" y=\"-361\" font-family=\"monospace\" font-size=\"10.00\" fill=\"#000000\"> ()</text>\n</g>\n<!-- 140478890000048&#45;&gt;140478890358800 -->\n<g id=\"edge5\" class=\"edge\">\n<title>140478890000048&#45;&gt;140478890358800</title>\n<path fill=\"none\" stroke=\"#000000\" d=\"M50.5,-353.9101C50.5,-344.6664 50.5,-332.7215 50.5,-322.6724\"/>\n<polygon fill=\"#000000\" stroke=\"#000000\" points=\"54.0001,-322.3772 50.5,-312.3772 47.0001,-322.3772 54.0001,-322.3772\"/>\n</g>\n<!-- 140478890358480 -->\n<g id=\"node8\" class=\"node\">\n<title>140478890358480</title>\n<polygon fill=\"#d3d3d3\" stroke=\"#000000\" points=\"220,-312 119,-312 119,-293 220,-293 220,-312\"/>\n<text text-anchor=\"middle\" x=\"169.5\" y=\"-300\" font-family=\"monospace\" font-size=\"10.00\" fill=\"#000000\">AccumulateGrad</text>\n</g>\n<!-- 140478890358480&#45;&gt;140478890575584 -->\n<g id=\"edge15\" class=\"edge\">\n<title>140478890358480&#45;&gt;140478890575584</title>\n<path fill=\"none\" stroke=\"#000000\" d=\"M165.6979,-292.6843C157.6405,-270.1105 141.4701,-213.6394 165.5,-177 174.2347,-163.6819 188.3627,-153.3017 201.4839,-145.8408\"/>\n<polygon fill=\"#000000\" stroke=\"#000000\" points=\"203.1397,-148.9245 210.3284,-141.1416 199.8553,-142.7428 203.1397,-148.9245\"/>\n</g>\n<!-- 140478890358480&#45;&gt;140478890577504 -->\n<g id=\"edge11\" class=\"edge\">\n<title>140478890358480&#45;&gt;140478890577504</title>\n<path fill=\"none\" stroke=\"#000000\" d=\"M165.903,-292.6952C161.305,-278.4111 155.1042,-251.4645 165.5,-232 172.8402,-218.2567 186.374,-207.9374 199.4464,-200.6311\"/>\n<polygon fill=\"#000000\" stroke=\"#000000\" points=\"201.0541,-203.7401 208.341,-196.0491 197.8484,-197.5172 201.0541,-203.7401\"/>\n</g>\n<!-- 140478890358480&#45;&gt;140478890574384 -->\n<g id=\"edge6\" class=\"edge\">\n<title>140478890358480&#45;&gt;140478890574384</title>\n<path fill=\"none\" stroke=\"#000000\" d=\"M179.5,-292.9688C189.2119,-283.7121 204.1639,-269.461 215.8741,-258.2997\"/>\n<polygon fill=\"#000000\" stroke=\"#000000\" points=\"218.5351,-260.5986 223.359,-251.1656 213.7055,-255.5315 218.5351,-260.5986\"/>\n</g>\n<!-- 140478889999488 -->\n<g id=\"node9\" class=\"node\">\n<title>140478889999488</title>\n<polygon fill=\"#add8e6\" stroke=\"#000000\" points=\"196.5,-384 142.5,-384 142.5,-354 196.5,-354 196.5,-384\"/>\n<text text-anchor=\"middle\" x=\"169.5\" y=\"-372\" font-family=\"monospace\" font-size=\"10.00\" fill=\"#000000\">c</text>\n<text text-anchor=\"middle\" x=\"169.5\" y=\"-361\" font-family=\"monospace\" font-size=\"10.00\" fill=\"#000000\"> ()</text>\n</g>\n<!-- 140478889999488&#45;&gt;140478890358480 -->\n<g id=\"edge7\" class=\"edge\">\n<title>140478889999488&#45;&gt;140478890358480</title>\n<path fill=\"none\" stroke=\"#000000\" d=\"M169.5,-353.9101C169.5,-344.6664 169.5,-332.7215 169.5,-322.6724\"/>\n<polygon fill=\"#000000\" stroke=\"#000000\" points=\"173.0001,-322.3772 169.5,-312.3772 166.0001,-322.3772 173.0001,-322.3772\"/>\n</g>\n<!-- 140478890585056 -->\n<g id=\"node10\" class=\"node\">\n<title>140478890585056</title>\n<polygon fill=\"#ffa500\" stroke=\"#000000\" points=\"424.5,-318 370.5,-318 370.5,-287 424.5,-287 424.5,-318\"/>\n<text text-anchor=\"middle\" x=\"397.5\" y=\"-294\" font-family=\"monospace\" font-size=\"10.00\" fill=\"#000000\"> (8)</text>\n</g>\n<!-- 140478890585056&#45;&gt;140478890575584 -->\n<g id=\"edge16\" class=\"edge\">\n<title>140478890585056&#45;&gt;140478890575584</title>\n<path fill=\"none\" stroke=\"#000000\" d=\"M391.3235,-286.7387C380.547,-260.9446 356.1096,-209.3547 321.5,-177 306.9012,-163.3523 287.4256,-152.7201 270.5078,-145.1775\"/>\n<polygon fill=\"#000000\" stroke=\"#000000\" points=\"271.471,-141.7839 260.8986,-141.0941 268.7332,-148.2264 271.471,-141.7839\"/>\n</g>\n<!-- 140478890585056&#45;&gt;140478890577504 -->\n<g id=\"edge13\" class=\"edge\">\n<title>140478890585056&#45;&gt;140478890577504</title>\n<path fill=\"none\" stroke=\"#000000\" d=\"M382.8752,-286.9324C368.0835,-271.7357 344.0944,-248.5473 320.5,-232 303.1182,-219.8097 282.0554,-208.7107 265.0083,-200.5268\"/>\n<polygon fill=\"#000000\" stroke=\"#000000\" points=\"266.0328,-197.1412 255.4934,-196.0589 263.0574,-203.4774 266.0328,-197.1412\"/>\n</g>\n<!-- 140478890585056&#45;&gt;140478890574384 -->\n<g id=\"edge8\" class=\"edge\">\n<title>140478890585056&#45;&gt;140478890574384</title>\n<path fill=\"none\" stroke=\"#000000\" d=\"M370.4144,-291.9285C366.0995,-290.2662 361.681,-288.577 357.5,-287 328.0821,-275.9041 294.6063,-263.6421 269.8578,-254.6459\"/>\n<polygon fill=\"#000000\" stroke=\"#000000\" points=\"270.753,-251.2475 260.1589,-251.1251 268.3644,-257.8273 270.753,-251.2475\"/>\n</g>\n<!-- 140478890586016 -->\n<g id=\"node11\" class=\"node\">\n<title>140478890586016</title>\n<polygon fill=\"#ffa500\" stroke=\"#000000\" points=\"348.5,-318 294.5,-318 294.5,-287 348.5,-287 348.5,-318\"/>\n<text text-anchor=\"middle\" x=\"321.5\" y=\"-294\" font-family=\"monospace\" font-size=\"10.00\" fill=\"#000000\"> ()</text>\n</g>\n<!-- 140478890586016&#45;&gt;140478890575584 -->\n<g id=\"edge17\" class=\"edge\">\n<title>140478890586016&#45;&gt;140478890575584</title>\n<path fill=\"none\" stroke=\"#000000\" d=\"M323.5941,-286.7889C326.132,-261.067 327.3723,-209.5787 302.5,-177 292.5246,-163.9338 277.6591,-153.4501 264.2779,-145.8541\"/>\n<polygon fill=\"#000000\" stroke=\"#000000\" points=\"265.7972,-142.6974 255.3295,-141.0605 262.4917,-148.8679 265.7972,-142.6974\"/>\n</g>\n<!-- 140478890586016&#45;&gt;140478890577504 -->\n<g id=\"edge12\" class=\"edge\">\n<title>140478890586016&#45;&gt;140478890577504</title>\n<path fill=\"none\" stroke=\"#000000\" d=\"M320.4668,-286.8426C318.7728,-271.5777 314.3016,-248.3389 302.5,-232 292.9428,-218.7684 278.2558,-208.3121 264.8847,-200.7771\"/>\n<polygon fill=\"#000000\" stroke=\"#000000\" points=\"266.3927,-197.6153 255.9172,-196.0291 263.1171,-203.8016 266.3927,-197.6153\"/>\n</g>\n<!-- 140478890586016&#45;&gt;140478890574384 -->\n<g id=\"edge9\" class=\"edge\">\n<title>140478890586016&#45;&gt;140478890574384</title>\n<path fill=\"none\" stroke=\"#000000\" d=\"M298.8378,-286.791C285.5972,-277.6128 268.9552,-266.0769 255.7808,-256.9446\"/>\n<polygon fill=\"#000000\" stroke=\"#000000\" points=\"257.5109,-253.8853 247.2984,-251.0648 253.523,-259.6383 257.5109,-253.8853\"/>\n</g>\n</g>\n</svg>\n"
          },
          "metadata": {
            "tags": []
          },
          "execution_count": 13
        }
      ]
    }
  ]
}