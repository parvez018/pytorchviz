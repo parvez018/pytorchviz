{
  "nbformat": 4,
  "nbformat_minor": 0,
  "metadata": {
    "colab": {
      "name": "spinodal_decomp.ipynb",
      "provenance": [],
      "collapsed_sections": [],
      "authorship_tag": "ABX9TyOujff8eX+RelY6gqmlKWhI",
      "include_colab_link": true
    },
    "kernelspec": {
      "name": "python3",
      "display_name": "Python 3"
    },
    "language_info": {
      "name": "python"
    }
  },
  "cells": [
    {
      "cell_type": "markdown",
      "metadata": {
        "id": "view-in-github",
        "colab_type": "text"
      },
      "source": [
        "<a href=\"https://colab.research.google.com/github/parvez018/pytorchviz/blob/master/spinodal_decomp.ipynb\" target=\"_parent\"><img src=\"https://colab.research.google.com/assets/colab-badge.svg\" alt=\"Open In Colab\"/></a>"
      ]
    },
    {
      "cell_type": "code",
      "metadata": {
        "id": "YKmzFoZN-gu3",
        "colab": {
          "base_uri": "https://localhost:8080/"
        },
        "outputId": "668f1aa6-e2b6-4f3f-fe1b-563604085e5b"
      },
      "source": [
        "import torch\n",
        "from torch import nn\n",
        "%pip install -U git+https://github.com/szagoruyko/pytorchviz.git@master\n",
        "from torchviz import make_dot, make_dot_from_trace"
      ],
      "execution_count": 1,
      "outputs": [
        {
          "output_type": "stream",
          "text": [
            "Collecting git+https://github.com/szagoruyko/pytorchviz.git@master\n",
            "  Cloning https://github.com/szagoruyko/pytorchviz.git (to revision master) to /tmp/pip-req-build-zkr4_633\n",
            "  Running command git clone -q https://github.com/szagoruyko/pytorchviz.git /tmp/pip-req-build-zkr4_633\n",
            "Requirement already satisfied, skipping upgrade: torch in /usr/local/lib/python3.7/dist-packages (from torchviz==0.0.2) (1.8.1+cu101)\n",
            "Requirement already satisfied, skipping upgrade: graphviz in /usr/local/lib/python3.7/dist-packages (from torchviz==0.0.2) (0.10.1)\n",
            "Requirement already satisfied, skipping upgrade: numpy in /usr/local/lib/python3.7/dist-packages (from torch->torchviz==0.0.2) (1.19.5)\n",
            "Requirement already satisfied, skipping upgrade: typing-extensions in /usr/local/lib/python3.7/dist-packages (from torch->torchviz==0.0.2) (3.7.4.3)\n",
            "Building wheels for collected packages: torchviz\n",
            "  Building wheel for torchviz (setup.py) ... \u001b[?25l\u001b[?25hdone\n",
            "  Created wheel for torchviz: filename=torchviz-0.0.2-cp37-none-any.whl size=4970 sha256=3cd5f0fee25f16d067b01914a64baa62474a5e970dc51abb3e85223251b2d58d\n",
            "  Stored in directory: /tmp/pip-ephem-wheel-cache-61o8texx/wheels/fc/d6/e6/66dc628cd51f1839234ed28feeba942a6f68bc69cec3b8f137\n",
            "Successfully built torchviz\n",
            "Installing collected packages: torchviz\n",
            "Successfully installed torchviz-0.0.2\n"
          ],
          "name": "stdout"
        }
      ]
    },
    {
      "cell_type": "markdown",
      "metadata": {
        "id": "zvlzhY-1-uBO"
      },
      "source": [
        "### Spinodal decomposiotion Pytorch default"
      ]
    },
    {
      "cell_type": "code",
      "metadata": {
        "id": "8Jx4NbSLILry"
      },
      "source": [
        "class LaplacianOp(nn.Module):\n",
        "\tdef __init__(self):\n",
        "\t\tsuper(LaplacianOp, self).__init__()\n",
        "\t\t# self.conv_kernel = nn.Parameter(torch.tensor([[[[0,1,0],[1,-4,1],[0,1,0]]]], dtype=torch.float),\n",
        "\t\t                                # requires_grad=False)\n",
        "\t\t\n",
        "\t\tself.conv_kernel = torch.tensor([[[[0,1,0],[1,-4,1],[0,1,0]]]],\\\n",
        "\t\t\t\t\t\t\t\t\t\tdtype=torch.float).to(device)\n",
        "\n",
        "\n",
        "\tdef forward(self, inputs, dx=1.0, dy=1.0):\n",
        "\t\t'''\n",
        "\t\t:param inputs: [batch, iH, iW], torch.float\n",
        "\t\t:return: laplacian of inputs\n",
        "\t\t'''\n",
        "\t\tunsqueezed = False\n",
        "\t\t# print(\"inside diff_ops, inputs = \",inputs.size())\n",
        "\t\tif inputs.dim() == 2:\n",
        "\t\t\tinputs = torch.unsqueeze(inputs, 0)\n",
        "\t\t\tunsqueezed = True\n",
        "\t\tinputs1 = torch.cat([inputs[:, -1:, :], inputs, inputs[:, :1, :]], dim=1)\n",
        "\t\tinputs2 = torch.cat([inputs1[:, :, -1:], inputs1, inputs1[:, :, :1]], dim=2)\n",
        "\t\tconv_inputs = torch.unsqueeze(inputs2, dim=1).to(device)\n",
        "\t\tresult = torch.nn.functional.conv2d(input=conv_inputs, weight=self.conv_kernel).squeeze(dim=1) / (dx*dy)\n",
        "\t\tif unsqueezed:\n",
        "\t\t\tresult = torch.squeeze(result, 0)\n",
        "\t\t'''\n",
        "\t\t# dimension of result? same as inputs argument?\n",
        "\t\t'''\n",
        "\t\treturn result"
      ],
      "execution_count": 4,
      "outputs": []
    },
    {
      "cell_type": "code",
      "metadata": {
        "id": "hT4nGbX6NrOC"
      },
      "source": [
        "MIN_CON,MAX_CON = 0.0001,0.9999"
      ],
      "execution_count": 33,
      "outputs": []
    },
    {
      "cell_type": "code",
      "metadata": {
        "id": "Zj_bPk7m_Hze"
      },
      "source": [
        "def fix_deviations(mat, lb=0.0, ub=1.0):\n",
        "    clipped_low = torch.count_nonzero(con<lb)\n",
        "    clipped_high = torch.count_nonzero(con>=ub)\n",
        "    print(\"low,high,total\",clipped_low,clipped_high,clipped_low+clipped_high)\n",
        "    mat.masked_fill_(torch.ge(mat, ub).detach(), ub)\n",
        "    mat.masked_fill_(torch.le(mat, lb).detach(), lb)\n",
        "    return mat\n",
        "\n",
        "class SpinDecompSingleTimestep(nn.Module):\n",
        "    def __init__(self,dtime=1e-4,dx=1.0,dy=1.0,filter_mode='wrap'):\n",
        "        super(SpinDecompSingleTimestep, self).__init__()\n",
        "\n",
        "        self.mobility = nn.Parameter(torch.tensor(5.0), requires_grad=True) \n",
        "        self.kappa = nn.Parameter(torch.tensor(5.0), requires_grad=True) \n",
        "\n",
        "        self.dtime = dtime\n",
        "        self.dx = dx\n",
        "        self.dy = dy\n",
        "        self.lap = LaplacianOp()\n",
        "\n",
        "        self.initial_params = {'kappa':self.kappa.data,'mobility':self.mobility.data}\n",
        "    \n",
        "    def init_params(self,kappa,mobility):\n",
        "        self.kappa.data = torch.tensor(kappa)\n",
        "        self.mobility.data = torch.tensor(mobility)\n",
        "\n",
        "        print(\"Set params to\",self.kappa,self.mobility)\n",
        "    \n",
        "\n",
        "\n",
        "\n",
        "    def free_energy(self,con):\n",
        "        dfdcon = 2.0*con*(1-con)*(1-2*con)\n",
        "        return dfdcon\n",
        "\n",
        "\n",
        "    def forward(self,con):\n",
        "        lap_con = self.lap(con,dx=self.dx,dy=self.dy)\n",
        "        mu = self.free_energy(con)\n",
        "        lap_lap_con = self.lap(lap_con,dx=self.dx,dy=self.dy)\n",
        "        lap_mu = self.lap(mu,dx=self.dx,dy=self.dy)\n",
        "        lap_dF_dc = lap_mu - self.kappa*lap_lap_con\n",
        "        updates = self.dtime*self.mobility*lap_dF_dc\n",
        "\n",
        "        con_new = con + updates\n",
        "        fix_deviations(con_new)\n",
        "        \n",
        "        return con_new"
      ],
      "execution_count": 35,
      "outputs": []
    },
    {
      "cell_type": "markdown",
      "metadata": {
        "id": "kDbtTBsfHnap"
      },
      "source": [
        "## Training"
      ]
    },
    {
      "cell_type": "code",
      "metadata": {
        "id": "PA3VRHdTIU-M"
      },
      "source": [
        "device = torch.device(\"cuda\" if torch.cuda.is_available() else \"cpu\")"
      ],
      "execution_count": 36,
      "outputs": []
    },
    {
      "cell_type": "code",
      "metadata": {
        "id": "njCnX5-AHzeK"
      },
      "source": [
        "model = SpinDecompSingleTimestep().to(device)"
      ],
      "execution_count": 37,
      "outputs": []
    },
    {
      "cell_type": "code",
      "metadata": {
        "colab": {
          "base_uri": "https://localhost:8080/"
        },
        "id": "4gYNExUOIdvE",
        "outputId": "60b13c6d-21e2-4295-b3ef-c52e61a49cbf"
      },
      "source": [
        "Nx,Ny = 32,32\n",
        "c0 = 0.5\n",
        "con1 = None\n",
        "con2 = None\n",
        "model.init_params(0.6,0.9)\n",
        "with torch.no_grad():\n",
        "  con1 = torch.zeros(Nx,Ny,dtype=torch.float)\n",
        "  con1[int(Nx/4):int(3*Nx/4),int(Nx/4):int(3*Nx/4)] = c0\n",
        "  con2 = model(con1)"
      ],
      "execution_count": 38,
      "outputs": [
        {
          "output_type": "stream",
          "text": [
            "Set params to Parameter containing:\n",
            "tensor(0.6000, requires_grad=True) Parameter containing:\n",
            "tensor(0.9000, requires_grad=True)\n",
            "low,high,total tensor(0) tensor(0) tensor(0)\n"
          ],
          "name": "stdout"
        }
      ]
    },
    {
      "cell_type": "code",
      "metadata": {
        "id": "zLCQqoxwIuRc"
      },
      "source": [
        "learning_rate = 0.02\n",
        "dc_model = SpinDecompSingleTimestep().to(device)\n",
        "optimizer = torch.optim.Adam(dc_model.parameters(), lr=learning_rate)\n",
        "mse = nn.MSELoss(reduction='sum').to(device)\n",
        "skip_step = 1"
      ],
      "execution_count": 39,
      "outputs": []
    },
    {
      "cell_type": "code",
      "metadata": {
        "colab": {
          "base_uri": "https://localhost:8080/"
        },
        "id": "9_PFbhTpKHKH",
        "outputId": "54f7f37d-39b1-4818-c94b-6094531e8d8a"
      },
      "source": [
        "ncon2 = dc_model(con1)"
      ],
      "execution_count": 40,
      "outputs": [
        {
          "output_type": "stream",
          "text": [
            "low,high,total tensor(0) tensor(0) tensor(0)\n"
          ],
          "name": "stdout"
        }
      ]
    },
    {
      "cell_type": "code",
      "metadata": {
        "colab": {
          "base_uri": "https://localhost:8080/",
          "height": 761
        },
        "id": "AxSECc04KaCo",
        "outputId": "90b78227-5193-4c67-94ff-9ed0def698fb"
      },
      "source": [
        "make_dot(dc_model(con1), params=dict(dc_model.named_parameters()), show_attrs = True)"
      ],
      "execution_count": 42,
      "outputs": [
        {
          "output_type": "stream",
          "text": [
            "low,high,total tensor(0) tensor(0) tensor(0)\n"
          ],
          "name": "stdout"
        },
        {
          "output_type": "stream",
          "text": [
            "/usr/local/lib/python3.7/dist-packages/torchviz/dot.py:68: UserWarning: make_dot: showing grad_fn attributes and saved variables requires PyTorch version >= 1.9. (This does NOT apply to saved tensors saved by custom autograd functions.)\n",
            "  \"make_dot: showing grad_fn attributes and saved variables\"\n"
          ],
          "name": "stderr"
        },
        {
          "output_type": "execute_result",
          "data": {
            "text/plain": [
              "<graphviz.dot.Digraph at 0x7efd83ca3890>"
            ],
            "image/svg+xml": "<?xml version=\"1.0\" encoding=\"UTF-8\" standalone=\"no\"?>\n<!DOCTYPE svg PUBLIC \"-//W3C//DTD SVG 1.1//EN\"\n \"http://www.w3.org/Graphics/SVG/1.1/DTD/svg11.dtd\">\n<!-- Generated by graphviz version 2.40.1 (20161225.0304)\n -->\n<!-- Title: %3 Pages: 1 -->\n<svg width=\"222pt\" height=\"501pt\"\n viewBox=\"0.00 0.00 222.00 501.00\" xmlns=\"http://www.w3.org/2000/svg\" xmlns:xlink=\"http://www.w3.org/1999/xlink\">\n<g id=\"graph0\" class=\"graph\" transform=\"scale(1 1) rotate(0) translate(4 497)\">\n<title>%3</title>\n<polygon fill=\"#ffffff\" stroke=\"transparent\" points=\"-4,4 -4,-497 218,-497 218,4 -4,4\"/>\n<!-- 139627302896256 -->\n<g id=\"node1\" class=\"node\">\n<title>139627302896256</title>\n<polygon fill=\"#caff70\" stroke=\"#000000\" points=\"142,-31 71,-31 71,0 142,0 142,-31\"/>\n<text text-anchor=\"middle\" x=\"106.5\" y=\"-7\" font-family=\"monospace\" font-size=\"10.00\" fill=\"#000000\"> (32, 32)</text>\n</g>\n<!-- 139627302893648 -->\n<g id=\"node2\" class=\"node\">\n<title>139627302893648</title>\n<polygon fill=\"#d3d3d3\" stroke=\"#000000\" points=\"172,-86 41,-86 41,-67 172,-67 172,-86\"/>\n<text text-anchor=\"middle\" x=\"106.5\" y=\"-74\" font-family=\"monospace\" font-size=\"10.00\" fill=\"#000000\">MaskedFillBackward0</text>\n</g>\n<!-- 139627302893648&#45;&gt;139627302896256 -->\n<g id=\"edge11\" class=\"edge\">\n<title>139627302893648&#45;&gt;139627302896256</title>\n<path fill=\"none\" stroke=\"#000000\" d=\"M106.5,-66.9688C106.5,-60.1289 106.5,-50.5621 106.5,-41.5298\"/>\n<polygon fill=\"#000000\" stroke=\"#000000\" points=\"110.0001,-41.3678 106.5,-31.3678 103.0001,-41.3678 110.0001,-41.3678\"/>\n</g>\n<!-- 139627302893520 -->\n<g id=\"node3\" class=\"node\">\n<title>139627302893520</title>\n<polygon fill=\"#d3d3d3\" stroke=\"#000000\" points=\"172,-141 41,-141 41,-122 172,-122 172,-141\"/>\n<text text-anchor=\"middle\" x=\"106.5\" y=\"-129\" font-family=\"monospace\" font-size=\"10.00\" fill=\"#000000\">MaskedFillBackward0</text>\n</g>\n<!-- 139627302893520&#45;&gt;139627302893648 -->\n<g id=\"edge1\" class=\"edge\">\n<title>139627302893520&#45;&gt;139627302893648</title>\n<path fill=\"none\" stroke=\"#000000\" d=\"M106.5,-121.9197C106.5,-114.9083 106.5,-105.1442 106.5,-96.4652\"/>\n<polygon fill=\"#000000\" stroke=\"#000000\" points=\"110.0001,-96.3408 106.5,-86.3408 103.0001,-96.3409 110.0001,-96.3408\"/>\n</g>\n<!-- 139627302893904 -->\n<g id=\"node4\" class=\"node\">\n<title>139627302893904</title>\n<polygon fill=\"#d3d3d3\" stroke=\"#000000\" points=\"151,-196 62,-196 62,-177 151,-177 151,-196\"/>\n<text text-anchor=\"middle\" x=\"106.5\" y=\"-184\" font-family=\"monospace\" font-size=\"10.00\" fill=\"#000000\">AddBackward0</text>\n</g>\n<!-- 139627302893904&#45;&gt;139627302893520 -->\n<g id=\"edge2\" class=\"edge\">\n<title>139627302893904&#45;&gt;139627302893520</title>\n<path fill=\"none\" stroke=\"#000000\" d=\"M106.5,-176.9197C106.5,-169.9083 106.5,-160.1442 106.5,-151.4652\"/>\n<polygon fill=\"#000000\" stroke=\"#000000\" points=\"110.0001,-151.3408 106.5,-141.3408 103.0001,-151.3409 110.0001,-151.3408\"/>\n</g>\n<!-- 139627302894096 -->\n<g id=\"node5\" class=\"node\">\n<title>139627302894096</title>\n<polygon fill=\"#d3d3d3\" stroke=\"#000000\" points=\"151,-251 62,-251 62,-232 151,-232 151,-251\"/>\n<text text-anchor=\"middle\" x=\"106.5\" y=\"-239\" font-family=\"monospace\" font-size=\"10.00\" fill=\"#000000\">MulBackward0</text>\n</g>\n<!-- 139627302894096&#45;&gt;139627302893904 -->\n<g id=\"edge3\" class=\"edge\">\n<title>139627302894096&#45;&gt;139627302893904</title>\n<path fill=\"none\" stroke=\"#000000\" d=\"M106.5,-231.9197C106.5,-224.9083 106.5,-215.1442 106.5,-206.4652\"/>\n<polygon fill=\"#000000\" stroke=\"#000000\" points=\"110.0001,-206.3408 106.5,-196.3408 103.0001,-206.3409 110.0001,-206.3408\"/>\n</g>\n<!-- 139627302894352 -->\n<g id=\"node6\" class=\"node\">\n<title>139627302894352</title>\n<polygon fill=\"#d3d3d3\" stroke=\"#000000\" points=\"98,-306 9,-306 9,-287 98,-287 98,-306\"/>\n<text text-anchor=\"middle\" x=\"53.5\" y=\"-294\" font-family=\"monospace\" font-size=\"10.00\" fill=\"#000000\">MulBackward0</text>\n</g>\n<!-- 139627302894352&#45;&gt;139627302894096 -->\n<g id=\"edge4\" class=\"edge\">\n<title>139627302894352&#45;&gt;139627302894096</title>\n<path fill=\"none\" stroke=\"#000000\" d=\"M62.7319,-286.9197C70.2391,-279.1293 81.021,-267.9405 90.0049,-258.6176\"/>\n<polygon fill=\"#000000\" stroke=\"#000000\" points=\"92.5983,-260.9703 97.017,-251.3408 87.5578,-256.113 92.5983,-260.9703\"/>\n</g>\n<!-- 139627302893264 -->\n<g id=\"node7\" class=\"node\">\n<title>139627302893264</title>\n<polygon fill=\"#d3d3d3\" stroke=\"#000000\" points=\"101,-361 0,-361 0,-342 101,-342 101,-361\"/>\n<text text-anchor=\"middle\" x=\"50.5\" y=\"-349\" font-family=\"monospace\" font-size=\"10.00\" fill=\"#000000\">AccumulateGrad</text>\n</g>\n<!-- 139627302893264&#45;&gt;139627302894352 -->\n<g id=\"edge5\" class=\"edge\">\n<title>139627302893264&#45;&gt;139627302894352</title>\n<path fill=\"none\" stroke=\"#000000\" d=\"M51.0226,-341.9197C51.405,-334.9083 51.9376,-325.1442 52.411,-316.4652\"/>\n<polygon fill=\"#000000\" stroke=\"#000000\" points=\"55.9133,-316.5166 52.9632,-306.3408 48.9237,-316.1353 55.9133,-316.5166\"/>\n</g>\n<!-- 139627303165856 -->\n<g id=\"node8\" class=\"node\">\n<title>139627303165856</title>\n<polygon fill=\"#add8e6\" stroke=\"#000000\" points=\"83,-427 18,-427 18,-397 83,-397 83,-427\"/>\n<text text-anchor=\"middle\" x=\"50.5\" y=\"-415\" font-family=\"monospace\" font-size=\"10.00\" fill=\"#000000\">mobility</text>\n<text text-anchor=\"middle\" x=\"50.5\" y=\"-404\" font-family=\"monospace\" font-size=\"10.00\" fill=\"#000000\"> ()</text>\n</g>\n<!-- 139627303165856&#45;&gt;139627302893264 -->\n<g id=\"edge6\" class=\"edge\">\n<title>139627303165856&#45;&gt;139627302893264</title>\n<path fill=\"none\" stroke=\"#000000\" d=\"M50.5,-396.7333C50.5,-389.0322 50.5,-379.5977 50.5,-371.3414\"/>\n<polygon fill=\"#000000\" stroke=\"#000000\" points=\"54.0001,-371.0864 50.5,-361.0864 47.0001,-371.0864 54.0001,-371.0864\"/>\n</g>\n<!-- 139627302894544 -->\n<g id=\"node9\" class=\"node\">\n<title>139627302894544</title>\n<polygon fill=\"#d3d3d3\" stroke=\"#000000\" points=\"206,-306 117,-306 117,-287 206,-287 206,-306\"/>\n<text text-anchor=\"middle\" x=\"161.5\" y=\"-294\" font-family=\"monospace\" font-size=\"10.00\" fill=\"#000000\">SubBackward0</text>\n</g>\n<!-- 139627302894544&#45;&gt;139627302894096 -->\n<g id=\"edge7\" class=\"edge\">\n<title>139627302894544&#45;&gt;139627302894096</title>\n<path fill=\"none\" stroke=\"#000000\" d=\"M151.9197,-286.9197C144.1293,-279.1293 132.9405,-267.9405 123.6176,-258.6176\"/>\n<polygon fill=\"#000000\" stroke=\"#000000\" points=\"125.8868,-255.937 116.3408,-251.3408 120.937,-260.8868 125.8868,-255.937\"/>\n</g>\n<!-- 139627302894800 -->\n<g id=\"node10\" class=\"node\">\n<title>139627302894800</title>\n<polygon fill=\"#d3d3d3\" stroke=\"#000000\" points=\"208,-361 119,-361 119,-342 208,-342 208,-361\"/>\n<text text-anchor=\"middle\" x=\"163.5\" y=\"-349\" font-family=\"monospace\" font-size=\"10.00\" fill=\"#000000\">MulBackward0</text>\n</g>\n<!-- 139627302894800&#45;&gt;139627302894544 -->\n<g id=\"edge8\" class=\"edge\">\n<title>139627302894800&#45;&gt;139627302894544</title>\n<path fill=\"none\" stroke=\"#000000\" d=\"M163.1516,-341.9197C162.8967,-334.9083 162.5416,-325.1442 162.226,-316.4652\"/>\n<polygon fill=\"#000000\" stroke=\"#000000\" points=\"165.719,-316.207 161.8578,-306.3408 158.7237,-316.4614 165.719,-316.207\"/>\n</g>\n<!-- 139627302894672 -->\n<g id=\"node11\" class=\"node\">\n<title>139627302894672</title>\n<polygon fill=\"#d3d3d3\" stroke=\"#000000\" points=\"214,-421.5 113,-421.5 113,-402.5 214,-402.5 214,-421.5\"/>\n<text text-anchor=\"middle\" x=\"163.5\" y=\"-409.5\" font-family=\"monospace\" font-size=\"10.00\" fill=\"#000000\">AccumulateGrad</text>\n</g>\n<!-- 139627302894672&#45;&gt;139627302894800 -->\n<g id=\"edge9\" class=\"edge\">\n<title>139627302894672&#45;&gt;139627302894800</title>\n<path fill=\"none\" stroke=\"#000000\" d=\"M163.5,-402.2796C163.5,-394.0376 163.5,-381.9457 163.5,-371.629\"/>\n<polygon fill=\"#000000\" stroke=\"#000000\" points=\"167.0001,-371.3972 163.5,-361.3972 160.0001,-371.3973 167.0001,-371.3972\"/>\n</g>\n<!-- 139627303163056 -->\n<g id=\"node12\" class=\"node\">\n<title>139627303163056</title>\n<polygon fill=\"#add8e6\" stroke=\"#000000\" points=\"190.5,-493 136.5,-493 136.5,-463 190.5,-463 190.5,-493\"/>\n<text text-anchor=\"middle\" x=\"163.5\" y=\"-481\" font-family=\"monospace\" font-size=\"10.00\" fill=\"#000000\">kappa</text>\n<text text-anchor=\"middle\" x=\"163.5\" y=\"-470\" font-family=\"monospace\" font-size=\"10.00\" fill=\"#000000\"> ()</text>\n</g>\n<!-- 139627303163056&#45;&gt;139627302894672 -->\n<g id=\"edge10\" class=\"edge\">\n<title>139627303163056&#45;&gt;139627302894672</title>\n<path fill=\"none\" stroke=\"#000000\" d=\"M163.5,-462.6924C163.5,-453.5067 163.5,-441.7245 163.5,-431.8312\"/>\n<polygon fill=\"#000000\" stroke=\"#000000\" points=\"167.0001,-431.703 163.5,-421.7031 160.0001,-431.7031 167.0001,-431.703\"/>\n</g>\n</g>\n</svg>\n"
          },
          "metadata": {
            "tags": []
          },
          "execution_count": 42
        }
      ]
    },
    {
      "cell_type": "code",
      "metadata": {
        "id": "JI3dsUjOKrVx"
      },
      "source": [
        "batch_loss = mse(con2,ncon2)"
      ],
      "execution_count": 44,
      "outputs": []
    },
    {
      "cell_type": "code",
      "metadata": {
        "id": "i2kwkbfhgCZd"
      },
      "source": [
        "optimizer.zero_grad()\n",
        "batch_loss.backward()"
      ],
      "execution_count": 45,
      "outputs": []
    },
    {
      "cell_type": "code",
      "metadata": {
        "colab": {
          "base_uri": "https://localhost:8080/"
        },
        "id": "OL51ITVmgFss",
        "outputId": "1c46523c-84e8-486f-ec81-041b9b1d831f"
      },
      "source": [
        "print(\"Final gradients\")\n",
        "for name,param in dc_model.named_parameters():\n",
        "    print(name,\"gradient:=\",param.grad)"
      ],
      "execution_count": 46,
      "outputs": [
        {
          "output_type": "stream",
          "text": [
            "Final gradients\n",
            "mobility gradient:= tensor(0.0009)\n",
            "kappa gradient:= tensor(0.0009)\n"
          ],
          "name": "stdout"
        }
      ]
    },
    {
      "cell_type": "markdown",
      "metadata": {
        "id": "Rv2_rc8egOiR"
      },
      "source": [
        "### Spinodal Decomp Autograd"
      ]
    },
    {
      "cell_type": "code",
      "metadata": {
        "id": "59PlP3K0gT9K"
      },
      "source": [
        "class SpinDecompSingleTimestepAg(torch.autograd.Function):\n",
        "    @staticmethod\n",
        "    def forward(ctx,input,kappa,mobility,free_energy_func,lap_func,dtime,dx,dy):\n",
        "        lap_con = lap_func(input,dx=dx,dy=dy)\n",
        "        mu = free_energy_func(input)\n",
        "        lap_lap_con = lap_func(lap_con,dx=dx,dy=dy)\n",
        "        lap_mu = lap_func(mu,dx=dx,dy=dy)\n",
        "        lap_dF_dc = lap_mu - kappa*lap_lap_con\n",
        "        updates = dtime*mobility*lap_dF_dc\n",
        "\n",
        "        con_new = input + updates\n",
        "        fix_deviations(con_new)\n",
        "        ctx.save_for_backward(input,mobility,kappa)\n",
        "        ctx.lap_func = lap_func\n",
        "        ctx.free_energy_func = free_energy_func\n",
        "        ctx.dtime = dtime\n",
        "        ctx.dx = dx\n",
        "        ctx.dy = dy\n",
        "\n",
        "        return con_new\n",
        "\n",
        "    @staticmethod\n",
        "    def backward(ctx,grad_output):\n",
        "        input,mobility,kappa = ctx.saved_tensors\n",
        "        dx = ctx.dx\n",
        "        dy = ctx.dy\n",
        "        dtime = ctx.dtime\n",
        "        lap_func = ctx.lap_func\n",
        "        free_energy_func = ctx.free_energy_func\n",
        "        \n",
        "        lap_con = lap_func(input,dx=dx,dy=dy)\n",
        "        mu = free_energy_func(input)\n",
        "        lap_lap_con = lap_func(lap_con,dx=dx,dy=dy)\n",
        "        lap_mu = lap_func(mu,dx=dx,dy=dy)\n",
        "        lap_dF_dc = lap_mu - kappa*lap_lap_con\n",
        "\n",
        "        grad_M = lap_dF_dc*dtime\n",
        "        grad_kappa = -1.0*dtime*mobility*lap_lap_con\n",
        "\n",
        "        dloss_dG = ctx.lap_func(grad_output,dx=dx,dy=dy)*dtime*mobility\n",
        "        dmu_dc = 12*(input**2)-12*(input)+2\n",
        "        lap_dloss_dG = ctx.lap_func(dloss_dG,dx=dx,dy=dy)\n",
        "\n",
        "        grad_c = grad_output\n",
        "        grad_c += dloss_dG*dmu_dc\n",
        "        grad_c += -1.0*kappa*lap_dloss_dG\n",
        "        return grad_c,grad_output*grad_kappa,grad_output*grad_M,None,None,None,None,None\n",
        "\n",
        "\n",
        "class WrappedSpinDecompSingleTimestep(nn.Module):\n",
        "    def __init__(self,dtime=1e-4,dx=1.0,dy=1.0,filter_mode='wrap'):\n",
        "        super(WrappedSpinDecompSingleTimestep, self).__init__()\n",
        "\n",
        "        self.mobility = nn.Parameter(torch.tensor(5.0), requires_grad=True) \n",
        "        self.kappa = nn.Parameter(torch.tensor(5.0), requires_grad=True) \n",
        "\n",
        "        self.dtime = dtime\n",
        "        self.dx = dx\n",
        "        self.dy = dy\n",
        "        self.lap = LaplacianOp()\n",
        "\n",
        "        self.initial_params = {'kappa':self.kappa.clone().data.numpy(),\n",
        "                                'mobility':self.mobility.clone().data.numpy()}\n",
        "    \n",
        "\n",
        "    def init_params(self,kappa,mobility):\n",
        "        self.kappa.data = torch.tensor(kappa)\n",
        "        self.mobility.data = torch.tensor(mobility)\n",
        "\n",
        "        print(\"Set params to\",self.kappa,self.mobility)\n",
        "    \n",
        "    def print_params(self):\n",
        "        print(\"dtime %f, dx %f dy %f kappa %f mobility %f\"%(self.dtime,self.dx,self.dy,self.kappa,self.mobility))\n",
        "\n",
        "\n",
        "\n",
        "    def free_energy(self,con):\n",
        "        dfdcon = 2.0*con*(1-con)*(1-2*con)\n",
        "        return dfdcon\n",
        "\n",
        "\n",
        "    def forward(self,con):\n",
        "        con_new = SpinDecompSingleTimestepAg.apply(con,self.kappa,self.mobility,self.free_energy,self.lap,self.dtime,self.dx,self.dy)\n",
        "        \n",
        "        return con_new"
      ],
      "execution_count": 48,
      "outputs": []
    },
    {
      "cell_type": "code",
      "metadata": {
        "colab": {
          "base_uri": "https://localhost:8080/"
        },
        "id": "vfQVBeJLgq91",
        "outputId": "a4874f4b-122f-49be-de0e-d9f950057b0f"
      },
      "source": [
        "wdc_model = WrappedSpinDecompSingleTimestep().to(device)\n",
        "wdc_model.print_params()\n",
        "woptimizer = torch.optim.Adam(dc_model.parameters(), lr=learning_rate)\n",
        "wmse = nn.MSELoss(reduction='sum').to(device)"
      ],
      "execution_count": 62,
      "outputs": [
        {
          "output_type": "stream",
          "text": [
            "dtime 0.000100, dx 1.000000 dy 1.000000 kappa 5.000000 mobility 5.000000\n"
          ],
          "name": "stdout"
        }
      ]
    },
    {
      "cell_type": "code",
      "metadata": {
        "colab": {
          "base_uri": "https://localhost:8080/",
          "height": 395
        },
        "id": "-puAfMJCg-f2",
        "outputId": "d0e3c013-2d13-4968-b634-8a16ff052373"
      },
      "source": [
        "make_dot(wdc_model(con1), params=dict(wdc_model.named_parameters()), show_attrs = True)"
      ],
      "execution_count": 50,
      "outputs": [
        {
          "output_type": "stream",
          "text": [
            "low,high,total tensor(0) tensor(0) tensor(0)\n"
          ],
          "name": "stdout"
        },
        {
          "output_type": "stream",
          "text": [
            "/usr/local/lib/python3.7/dist-packages/torchviz/dot.py:68: UserWarning: make_dot: showing grad_fn attributes and saved variables requires PyTorch version >= 1.9. (This does NOT apply to saved tensors saved by custom autograd functions.)\n",
            "  \"make_dot: showing grad_fn attributes and saved variables\"\n"
          ],
          "name": "stderr"
        },
        {
          "output_type": "execute_result",
          "data": {
            "text/plain": [
              "<graphviz.dot.Digraph at 0x7efd83cf9650>"
            ],
            "image/svg+xml": "<?xml version=\"1.0\" encoding=\"UTF-8\" standalone=\"no\"?>\n<!DOCTYPE svg PUBLIC \"-//W3C//DTD SVG 1.1//EN\"\n \"http://www.w3.org/Graphics/SVG/1.1/DTD/svg11.dtd\">\n<!-- Generated by graphviz version 2.40.1 (20161225.0304)\n -->\n<!-- Title: %3 Pages: 1 -->\n<svg width=\"462pt\" height=\"227pt\"\n viewBox=\"0.00 0.00 461.50 227.00\" xmlns=\"http://www.w3.org/2000/svg\" xmlns:xlink=\"http://www.w3.org/1999/xlink\">\n<g id=\"graph0\" class=\"graph\" transform=\"scale(1 1) rotate(0) translate(4 223)\">\n<title>%3</title>\n<polygon fill=\"#ffffff\" stroke=\"transparent\" points=\"-4,4 -4,-223 457.5,-223 457.5,4 -4,4\"/>\n<!-- 139627302818592 -->\n<g id=\"node1\" class=\"node\">\n<title>139627302818592</title>\n<polygon fill=\"#caff70\" stroke=\"#000000\" points=\"309,-31 238,-31 238,0 309,0 309,-31\"/>\n<text text-anchor=\"middle\" x=\"273.5\" y=\"-7\" font-family=\"monospace\" font-size=\"10.00\" fill=\"#000000\"> (32, 32)</text>\n</g>\n<!-- 139627304375072 -->\n<g id=\"node2\" class=\"node\">\n<title>139627304375072</title>\n<polygon fill=\"#d3d3d3\" stroke=\"#000000\" points=\"384,-86 163,-86 163,-67 384,-67 384,-86\"/>\n<text text-anchor=\"middle\" x=\"273.5\" y=\"-74\" font-family=\"monospace\" font-size=\"10.00\" fill=\"#000000\">SpinDecompSingleTimestepAgBackward</text>\n</g>\n<!-- 139627304375072&#45;&gt;139627302818592 -->\n<g id=\"edge8\" class=\"edge\">\n<title>139627304375072&#45;&gt;139627302818592</title>\n<path fill=\"none\" stroke=\"#000000\" d=\"M273.5,-66.9688C273.5,-60.1289 273.5,-50.5621 273.5,-41.5298\"/>\n<polygon fill=\"#000000\" stroke=\"#000000\" points=\"277.0001,-41.3678 273.5,-31.3678 270.0001,-41.3678 277.0001,-41.3678\"/>\n</g>\n<!-- 139627303243856 -->\n<g id=\"node3\" class=\"node\">\n<title>139627303243856</title>\n<polygon fill=\"#d3d3d3\" stroke=\"#000000\" points=\"101,-147 0,-147 0,-128 101,-128 101,-147\"/>\n<text text-anchor=\"middle\" x=\"50.5\" y=\"-135\" font-family=\"monospace\" font-size=\"10.00\" fill=\"#000000\">AccumulateGrad</text>\n</g>\n<!-- 139627303243856&#45;&gt;139627304375072 -->\n<g id=\"edge1\" class=\"edge\">\n<title>139627303243856&#45;&gt;139627304375072</title>\n<path fill=\"none\" stroke=\"#000000\" d=\"M85.3438,-127.9688C124.0152,-117.3905 186.5308,-100.2898 228.7847,-88.7315\"/>\n<polygon fill=\"#000000\" stroke=\"#000000\" points=\"229.8115,-92.0793 238.5337,-86.0648 227.9645,-85.3274 229.8115,-92.0793\"/>\n</g>\n<!-- 139627303150688 -->\n<g id=\"node4\" class=\"node\">\n<title>139627303150688</title>\n<polygon fill=\"#add8e6\" stroke=\"#000000\" points=\"77.5,-219 23.5,-219 23.5,-189 77.5,-189 77.5,-219\"/>\n<text text-anchor=\"middle\" x=\"50.5\" y=\"-207\" font-family=\"monospace\" font-size=\"10.00\" fill=\"#000000\">kappa</text>\n<text text-anchor=\"middle\" x=\"50.5\" y=\"-196\" font-family=\"monospace\" font-size=\"10.00\" fill=\"#000000\"> ()</text>\n</g>\n<!-- 139627303150688&#45;&gt;139627303243856 -->\n<g id=\"edge2\" class=\"edge\">\n<title>139627303150688&#45;&gt;139627303243856</title>\n<path fill=\"none\" stroke=\"#000000\" d=\"M50.5,-188.9101C50.5,-179.6664 50.5,-167.7215 50.5,-157.6724\"/>\n<polygon fill=\"#000000\" stroke=\"#000000\" points=\"54.0001,-157.3772 50.5,-147.3772 47.0001,-157.3772 54.0001,-157.3772\"/>\n</g>\n<!-- 139627303247440 -->\n<g id=\"node5\" class=\"node\">\n<title>139627303247440</title>\n<polygon fill=\"#d3d3d3\" stroke=\"#000000\" points=\"220,-147 119,-147 119,-128 220,-128 220,-147\"/>\n<text text-anchor=\"middle\" x=\"169.5\" y=\"-135\" font-family=\"monospace\" font-size=\"10.00\" fill=\"#000000\">AccumulateGrad</text>\n</g>\n<!-- 139627303247440&#45;&gt;139627304375072 -->\n<g id=\"edge3\" class=\"edge\">\n<title>139627303247440&#45;&gt;139627304375072</title>\n<path fill=\"none\" stroke=\"#000000\" d=\"M185.75,-127.9688C202.5182,-118.1335 228.8992,-102.6601 248.3608,-91.2451\"/>\n<polygon fill=\"#000000\" stroke=\"#000000\" points=\"250.1659,-94.244 257.0209,-86.1656 246.6244,-88.206 250.1659,-94.244\"/>\n</g>\n<!-- 139627303153248 -->\n<g id=\"node6\" class=\"node\">\n<title>139627303153248</title>\n<polygon fill=\"#add8e6\" stroke=\"#000000\" points=\"202,-219 137,-219 137,-189 202,-189 202,-219\"/>\n<text text-anchor=\"middle\" x=\"169.5\" y=\"-207\" font-family=\"monospace\" font-size=\"10.00\" fill=\"#000000\">mobility</text>\n<text text-anchor=\"middle\" x=\"169.5\" y=\"-196\" font-family=\"monospace\" font-size=\"10.00\" fill=\"#000000\"> ()</text>\n</g>\n<!-- 139627303153248&#45;&gt;139627303247440 -->\n<g id=\"edge4\" class=\"edge\">\n<title>139627303153248&#45;&gt;139627303247440</title>\n<path fill=\"none\" stroke=\"#000000\" d=\"M169.5,-188.9101C169.5,-179.6664 169.5,-167.7215 169.5,-157.6724\"/>\n<polygon fill=\"#000000\" stroke=\"#000000\" points=\"173.0001,-157.3772 169.5,-147.3772 166.0001,-157.3772 173.0001,-157.3772\"/>\n</g>\n<!-- 139627303128112 -->\n<g id=\"node7\" class=\"node\">\n<title>139627303128112</title>\n<polygon fill=\"#ffa500\" stroke=\"#000000\" points=\"309,-153 238,-153 238,-122 309,-122 309,-153\"/>\n<text text-anchor=\"middle\" x=\"273.5\" y=\"-129\" font-family=\"monospace\" font-size=\"10.00\" fill=\"#000000\"> (32, 32)</text>\n</g>\n<!-- 139627303128112&#45;&gt;139627304375072 -->\n<g id=\"edge5\" class=\"edge\">\n<title>139627303128112&#45;&gt;139627304375072</title>\n<path fill=\"none\" stroke=\"#000000\" d=\"M273.5,-121.791C273.5,-114.0249 273.5,-104.5706 273.5,-96.3129\"/>\n<polygon fill=\"#000000\" stroke=\"#000000\" points=\"277.0001,-96.0647 273.5,-86.0648 270.0001,-96.0648 277.0001,-96.0647\"/>\n</g>\n<!-- 139627303125632 -->\n<g id=\"node8\" class=\"node\">\n<title>139627303125632</title>\n<polygon fill=\"#ffa500\" stroke=\"#000000\" points=\"381.5,-153 327.5,-153 327.5,-122 381.5,-122 381.5,-153\"/>\n<text text-anchor=\"middle\" x=\"354.5\" y=\"-129\" font-family=\"monospace\" font-size=\"10.00\" fill=\"#000000\"> ()</text>\n</g>\n<!-- 139627303125632&#45;&gt;139627304375072 -->\n<g id=\"edge6\" class=\"edge\">\n<title>139627303125632&#45;&gt;139627304375072</title>\n<path fill=\"none\" stroke=\"#000000\" d=\"M333.6405,-121.791C321.5703,-112.7011 306.4292,-101.2985 294.3591,-92.2087\"/>\n<polygon fill=\"#000000\" stroke=\"#000000\" points=\"296.2945,-89.2847 286.2008,-86.0648 292.0834,-94.8764 296.2945,-89.2847\"/>\n</g>\n<!-- 139627303125792 -->\n<g id=\"node9\" class=\"node\">\n<title>139627303125792</title>\n<polygon fill=\"#ffa500\" stroke=\"#000000\" points=\"453.5,-153 399.5,-153 399.5,-122 453.5,-122 453.5,-153\"/>\n<text text-anchor=\"middle\" x=\"426.5\" y=\"-129\" font-family=\"monospace\" font-size=\"10.00\" fill=\"#000000\"> ()</text>\n</g>\n<!-- 139627303125792&#45;&gt;139627304375072 -->\n<g id=\"edge7\" class=\"edge\">\n<title>139627303125792&#45;&gt;139627304375072</title>\n<path fill=\"none\" stroke=\"#000000\" d=\"M399.4169,-125.7165C396.4146,-124.4468 393.3966,-123.1864 390.5,-122 362.9702,-110.7246 331.5346,-98.5375 308.1852,-89.6165\"/>\n<polygon fill=\"#000000\" stroke=\"#000000\" points=\"309.2993,-86.2956 298.7084,-86.0054 306.8067,-92.8368 309.2993,-86.2956\"/>\n</g>\n</g>\n</svg>\n"
          },
          "metadata": {
            "tags": []
          },
          "execution_count": 50
        }
      ]
    },
    {
      "cell_type": "code",
      "metadata": {
        "colab": {
          "base_uri": "https://localhost:8080/"
        },
        "id": "n6iH5_A1haGN",
        "outputId": "d9bb8c10-d75d-4c9f-b28b-60d84aa31f0e"
      },
      "source": [
        "wcon2 = wdc_model(con1)\n",
        "wloss = mse(wcon2,con2)\n",
        "woptimizer.zero_grad()\n",
        "wloss.backward()"
      ],
      "execution_count": 63,
      "outputs": [
        {
          "output_type": "stream",
          "text": [
            "low,high,total tensor(0) tensor(0) tensor(0)\n"
          ],
          "name": "stdout"
        }
      ]
    },
    {
      "cell_type": "code",
      "metadata": {
        "colab": {
          "base_uri": "https://localhost:8080/"
        },
        "id": "YcwevK52hhd-",
        "outputId": "e47f460c-c0cd-4e19-8ee6-69a407607417"
      },
      "source": [
        "for name,param in wdc_model.named_parameters():\n",
        "    print(name,\"value\",param.data,\"gradient:=\",param.grad)"
      ],
      "execution_count": 64,
      "outputs": [
        {
          "output_type": "stream",
          "text": [
            "mobility value tensor(5.) gradient:= tensor(0.0009)\n",
            "kappa value tensor(5.) gradient:= tensor(0.0009)\n"
          ],
          "name": "stdout"
        }
      ]
    }
  ]
}